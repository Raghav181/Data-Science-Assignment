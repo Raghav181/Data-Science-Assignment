{
 "cells": [
  {
   "cell_type": "markdown",
   "id": "578d6c07-8b79-4f3c-9867-9179ad149261",
   "metadata": {},
   "source": [
    "# Data Science Assignment"
   ]
  },
  {
   "cell_type": "markdown",
   "id": "9770cb14-e56e-47ff-bfe0-807e9f681d37",
   "metadata": {},
   "source": [
    "Data Science is a powerful field that leverages data to extract insights, make informed decisions, and drive innovation across various industries."
   ]
  },
  {
   "cell_type": "markdown",
   "id": "b8333034-a67f-4fa6-ab31-c3526a35bd8f",
   "metadata": {},
   "source": [
    "# Programming languages used in data science\n",
    "\n",
    "Python – Most popular due to its rich libraries (NumPy, pandas, scikit-learn, TensorFlow, etc.).\n",
    "\n",
    "R – Preferred for statistical computing and visualization.\n",
    "\n",
    "SQL – Essential for querying and managing databases.\n",
    "\n",
    "Julia – Known for high-performance computing and numerical analysis.\n",
    "\n",
    "Java – Used in big data applications and enterprise-level solutions.\n",
    "\n",
    "Scala – Works well with Apache Spark for big data processing.\n",
    "\n",
    "MATLAB – Used in mathematical modeling and simulations.\n",
    "\n",
    "C/C++ – Occasionally used for high-performance computing tasks.\n",
    "\n",
    "Python and R are the most widely used languages in data science.\n"
   ]
  },
  {
   "cell_type": "markdown",
   "id": "0d2fbc39-6b4b-455c-9e40-8585d756eeb8",
   "metadata": {},
   "source": [
    "# Libraries used in Data Science\n",
    "Data science relies on a variety of powerful libraries that facilitate data manipulation, analysis, machine learning, and visualization.\"\n",
    "\n",
    "NumPy – Supports large, multi-dimensional arrays and numerical computations.\n",
    "pandas – Provides data structures like DataFrames for data manipulation and analysis.\n",
    "Matplotlib – A plotting library for creating static, animated, and interactive visualizations.\n",
    "Seaborn – Built on Matplotlib, enhances statistical data visualization.\n",
    "scikit-learn – Offers machine learning algorithms for classification, regression, and clustering.\n",
    "TensorFlow – An open-source framework for deep learning and neural networks.\n",
    "PyTorch – A deep learning library known for its flexibility and ease of use.\n",
    "Statsmodels – Used for statistical modeling and hypothesis testing.\n",
    "NLTK – A natural language processing toolkit for text analysis.\n",
    "Apache Spark (PySpark) – Used for big data processing and distributed computing."
   ]
  },
  {
   "cell_type": "markdown",
   "id": "19d71077-2f75-485d-a5aa-4ee9970f6fb1",
   "metadata": {},
   "source": [
    "# Tools used in data science-\n",
    "|Category| Tools|\n",
    "|--------|------|\n",
    "|Programming| Python, R, Julia|\n",
    "|Data Manipulation|pandas, NumPy|\n",
    "|Data Visualisation| Matplotlib, Seaborn, ggplot2|\n",
    "|Machine Learning|scikiy learn, tensorflow,Pytorch|"
   ]
  },
  {
   "cell_type": "markdown",
   "id": "d552eec8-8a9c-4c47-a029-c0cf367e2629",
   "metadata": {},
   "source": [
    "# Arithmetic operations - \n",
    "1) Addition\r\n",
    "sum_result = 10 + 5  \r\n",
    "print(\"Addition:\", sum_result)  # Output: 15  2) \r\n",
    "# Subtraction\r\n",
    "difference = 20 - 8  \r\n",
    "print(\"Subtraction:\", difference)  # Output: 3)   \r\n",
    "\r\n",
    "# Multiplication\r\n",
    "product = 6 * 7  \r\n",
    "print(\"Multiplication:\", product)  # Outp4) : 42  \r\n",
    "\r\n",
    "# Division\r\n",
    "quotient = 25 / 5  \r\n",
    "print(\"Division:\", quotient)  # O5) put: 5.0  \r\n",
    "\r\n",
    "# Modulus (Remainder)\r\n",
    "remainder = 10 % 3  \r\n",
    "print(\"Modulus:\", remainder6)  # Output: 1  \r\n",
    "\r\n",
    "# Exponentiation\r\n",
    "power = 2 ** 3  \r\n",
    "print(\"Exponentiation:\", \n",
    "floor_div)  # Output: 4  \r\n"
   ]
  },
  {
   "cell_type": "code",
   "execution_count": 29,
   "id": "a6036ed4-76bb-4ce7-849b-cdb9ae3ded1a",
   "metadata": {},
   "outputs": [
    {
     "name": "stdout",
     "output_type": "stream",
     "text": [
      "The sum is:  15\n",
      "The product is:  50\n"
     ]
    }
   ],
   "source": [
    "# To add and multiply two integers\n",
    "a = 5\n",
    "b = 10\n",
    "sum = a+b\n",
    "product = a*b\n",
    "print(\"The sum is: \",sum)\n",
    "print(\"The product is: \",product)"
   ]
  },
  {
   "cell_type": "code",
   "execution_count": 31,
   "id": "73d86847-b0ae-491d-968f-af6848f70552",
   "metadata": {},
   "outputs": [
    {
     "name": "stdout",
     "output_type": "stream",
     "text": [
      "150 minutes is equal to 2.5 hours.\n"
     ]
    }
   ],
   "source": [
    "# Convert minutes to hours\n",
    "minutes = 150  \n",
    "hours = minutes / 60  \n",
    "\n",
    "print(f\"{minutes} minutes is equal to {hours} hours.\")\n"
   ]
  },
  {
   "cell_type": "markdown",
   "id": "156c163e-c780-45ad-bd6b-7ab6d850efdf",
   "metadata": {},
   "source": [
    "# Objectives\n",
    "\n",
    "Data science involves various techniques and tools that help in analyzing and interpreting data to extract meaningful insights.\"\n",
    "\n",
    "Data Collection\n",
    "\n",
    "Data Cleaning and Preprocessing\n",
    "\n",
    "Exploratory Data Analysis (EDA)\n",
    "\n",
    "Data Visualization\n",
    "\n",
    "Machine Learning and AI\n",
    "\n",
    "Model Evaluation and Optimization\n",
    "\n",
    "Deployment and Monitoring\n"
   ]
  },
  {
   "cell_type": "markdown",
   "id": "f056bb40-ca41-4f47-a090-1c469d54595a",
   "metadata": {},
   "source": [
    "# Author\n",
    "Author name - Raghav Gupta\n",
    "\n",
    "Age - 20\n",
    "\n",
    "College - Manipal University Jaipur\n"
   ]
  },
  {
   "cell_type": "code",
   "execution_count": null,
   "id": "676d12c9-2005-428c-a872-d25c64aed2e1",
   "metadata": {},
   "outputs": [],
   "source": []
  }
 ],
 "metadata": {
  "kernelspec": {
   "display_name": "Python 3 (ipykernel)",
   "language": "python",
   "name": "python3"
  },
  "language_info": {
   "codemirror_mode": {
    "name": "ipython",
    "version": 3
   },
   "file_extension": ".py",
   "mimetype": "text/x-python",
   "name": "python",
   "nbconvert_exporter": "python",
   "pygments_lexer": "ipython3",
   "version": "3.12.4"
  }
 },
 "nbformat": 4,
 "nbformat_minor": 5
}
